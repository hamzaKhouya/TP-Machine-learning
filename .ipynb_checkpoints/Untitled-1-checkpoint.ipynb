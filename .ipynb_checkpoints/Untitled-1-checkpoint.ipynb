{
 "cells": [
  {
   "cell_type": "code",
   "execution_count": 3,
   "metadata": {},
   "outputs": [],
   "source": [
    "import pandas as pd \n",
    "sms_raw =pd.read_csv(\"sms_spam.csv\",header=0, names=['label','SMS'])"
   ]
  },
  {
   "cell_type": "code",
   "execution_count": 5,
   "metadata": {},
   "outputs": [
    {
     "data": {
      "text/html": [
       "<div>\n",
       "<style scoped>\n",
       "    .dataframe tbody tr th:only-of-type {\n",
       "        vertical-align: middle;\n",
       "    }\n",
       "\n",
       "    .dataframe tbody tr th {\n",
       "        vertical-align: top;\n",
       "    }\n",
       "\n",
       "    .dataframe thead th {\n",
       "        text-align: right;\n",
       "    }\n",
       "</style>\n",
       "<table border=\"1\" class=\"dataframe\">\n",
       "  <thead>\n",
       "    <tr style=\"text-align: right;\">\n",
       "      <th></th>\n",
       "      <th>label</th>\n",
       "      <th>SMS</th>\n",
       "    </tr>\n",
       "  </thead>\n",
       "  <tbody>\n",
       "    <tr>\n",
       "      <th>0</th>\n",
       "      <td>ham</td>\n",
       "      <td>Hope you are having a good week. Just checking in</td>\n",
       "    </tr>\n",
       "    <tr>\n",
       "      <th>1</th>\n",
       "      <td>ham</td>\n",
       "      <td>K..give back my thanks.</td>\n",
       "    </tr>\n",
       "    <tr>\n",
       "      <th>2</th>\n",
       "      <td>ham</td>\n",
       "      <td>Am also doing in cbe only. But have to pay.</td>\n",
       "    </tr>\n",
       "    <tr>\n",
       "      <th>3</th>\n",
       "      <td>spam</td>\n",
       "      <td>complimentary 4 STAR Ibiza Holiday or £10,000 ...</td>\n",
       "    </tr>\n",
       "    <tr>\n",
       "      <th>4</th>\n",
       "      <td>spam</td>\n",
       "      <td>okmail: Dear Dave this is your final notice to...</td>\n",
       "    </tr>\n",
       "  </tbody>\n",
       "</table>\n",
       "</div>"
      ],
      "text/plain": [
       "  label                                                SMS\n",
       "0   ham  Hope you are having a good week. Just checking in\n",
       "1   ham                            K..give back my thanks.\n",
       "2   ham        Am also doing in cbe only. But have to pay.\n",
       "3  spam  complimentary 4 STAR Ibiza Holiday or £10,000 ...\n",
       "4  spam  okmail: Dear Dave this is your final notice to..."
      ]
     },
     "execution_count": 5,
     "metadata": {},
     "output_type": "execute_result"
    }
   ],
   "source": [
    "sms_raw.head()"
   ]
  },
  {
   "cell_type": "code",
   "execution_count": 8,
   "metadata": {},
   "outputs": [
    {
     "data": {
      "text/plain": [
       "ham     4812\n",
       "spam     747\n",
       "Name: label, dtype: int64"
      ]
     },
     "execution_count": 8,
     "metadata": {},
     "output_type": "execute_result"
    }
   ],
   "source": [
    "sms_raw['label'].value_counts()"
   ]
  },
  {
   "cell_type": "code",
   "execution_count": 9,
   "metadata": {},
   "outputs": [
    {
     "name": "stdout",
     "output_type": "stream",
     "text": [
      "<class 'pandas.core.frame.DataFrame'>\n",
      "RangeIndex: 5559 entries, 0 to 5558\n",
      "Data columns (total 2 columns):\n",
      " #   Column  Non-Null Count  Dtype \n",
      "---  ------  --------------  ----- \n",
      " 0   label   5559 non-null   object\n",
      " 1   SMS     5559 non-null   object\n",
      "dtypes: object(2)\n",
      "memory usage: 87.0+ KB\n"
     ]
    }
   ],
   "source": [
    "sms_raw.info()"
   ]
  },
  {
   "cell_type": "code",
   "execution_count": 10,
   "metadata": {},
   "outputs": [],
   "source": [
    "X=sms_raw.iloc[:,1]\n",
    "Y=sms_raw.iloc[:,0]"
   ]
  },
  {
   "cell_type": "code",
   "execution_count": 11,
   "metadata": {},
   "outputs": [
    {
     "data": {
      "text/plain": [
       "0       Hope you are having a good week. Just checking in\n",
       "1                                 K..give back my thanks.\n",
       "2             Am also doing in cbe only. But have to pay.\n",
       "3       complimentary 4 STAR Ibiza Holiday or £10,000 ...\n",
       "4       okmail: Dear Dave this is your final notice to...\n",
       "                              ...                        \n",
       "5554    You are a great role model. You are giving so ...\n",
       "5555    Awesome, I remember the last time we got someb...\n",
       "5556    If you don't, your prize will go to another cu...\n",
       "5557    SMS. ac JSco: Energy is high, but u may not kn...\n",
       "5558                      Shall call now dear having food\n",
       "Name: SMS, Length: 5559, dtype: object"
      ]
     },
     "execution_count": 11,
     "metadata": {},
     "output_type": "execute_result"
    }
   ],
   "source": [
    "X"
   ]
  },
  {
   "cell_type": "code",
   "execution_count": 12,
   "metadata": {},
   "outputs": [
    {
     "data": {
      "text/plain": [
       "0        ham\n",
       "1        ham\n",
       "2        ham\n",
       "3       spam\n",
       "4       spam\n",
       "        ... \n",
       "5554     ham\n",
       "5555     ham\n",
       "5556    spam\n",
       "5557    spam\n",
       "5558     ham\n",
       "Name: label, Length: 5559, dtype: object"
      ]
     },
     "execution_count": 12,
     "metadata": {},
     "output_type": "execute_result"
    }
   ],
   "source": [
    "Y"
   ]
  },
  {
   "cell_type": "markdown",
   "metadata": {},
   "source": [
    "########Diviser le message en mots "
   ]
  },
  {
   "cell_type": "code",
   "execution_count": 13,
   "metadata": {},
   "outputs": [
    {
     "name": "stderr",
     "output_type": "stream",
     "text": [
      "C:\\Users\\Hamza\\anaconda3\\lib\\site-packages\\scipy\\__init__.py:155: UserWarning: A NumPy version >=1.18.5 and <1.25.0 is required for this version of SciPy (detected version 1.26.1\n",
      "  warnings.warn(f\"A NumPy version >={np_minversion} and <{np_maxversion}\"\n",
      "[nltk_data] Downloading package punkt to\n",
      "[nltk_data]     C:\\Users\\Hamza\\AppData\\Roaming\\nltk_data...\n",
      "[nltk_data]   Unzipping tokenizers\\punkt.zip.\n"
     ]
    }
   ],
   "source": [
    "import nltk\n",
    "nltk.download(\"punkt\")\n",
    "from nltk.tokenize import word_tokenize\n",
    "token_words = word_tokenize( X [0])"
   ]
  },
  {
   "cell_type": "markdown",
   "metadata": {},
   "source": [
    "#######Exemple  (stemming)"
   ]
  },
  {
   "cell_type": "code",
   "execution_count": 14,
   "metadata": {},
   "outputs": [
    {
     "name": "stdout",
     "output_type": "stream",
     "text": [
      " Word                Porter␣Stemmer      lancaster␣Stemmer    \n",
      " Friend              friend              friend               \n",
      " friendship          friendship          friend               \n",
      " friends             friend              friend               \n",
      " friendships         friendship          friend               \n",
      " stabil              stabil              stabl                \n",
      " destabilize         destabil            dest                 \n",
      " misunderstanding    misunderstand       misunderstand        \n",
      " railroad            railroad            railroad             \n",
      " moonlight           moonlight           moonlight            \n",
      " football            footbal             footbal              \n"
     ]
    }
   ],
   "source": [
    "from nltk . stem import PorterStemmer\n",
    "from nltk . stem import LancasterStemmer\n",
    "# create an object of class PorterStemmer\n",
    "porter = PorterStemmer ()\n",
    "lancaster = LancasterStemmer ()\n",
    "#A list of words to be stemmed\n",
    "word_list = [ \"Friend\" , \"friendship\" , \"friends\" , \"friendships\" , \"stabil\" , \"destabilize\" , \"misunderstanding\" , \"railroad\" , \"moonlight\" , \"football\"]\n",
    "print(\" {0:20}{1:20}{2:20} \". format (\"Word\" ,\"Porter␣Stemmer\" ,\"lancaster␣Stemmer\") )\n",
    "for word in word_list:\n",
    "    print (\" {0:20}{1:20}{2:20} \". format ( word , porter.stem( word ) , lancaster.stem( word )))"
   ]
  },
  {
   "cell_type": "markdown",
   "metadata": {},
   "source": [
    "#############On peut ensuite supprimer les stop words (comme to, and) et la ponctuation."
   ]
  },
  {
   "cell_type": "code",
   "execution_count": 39,
   "metadata": {},
   "outputs": [
    {
     "data": {
      "text/plain": [
       "[' w']"
      ]
     },
     "execution_count": 39,
     "metadata": {},
     "output_type": "execute_result"
    }
   ],
   "source": [
    "tokenizer = nltk . RegexpTokenizer ( \"\\ w+\" )\n",
    "new_words = tokenizer . tokenize (X [0])\n",
    "new_words"
   ]
  },
  {
   "cell_type": "code",
   "execution_count": 58,
   "metadata": {},
   "outputs": [
    {
     "name": "stderr",
     "output_type": "stream",
     "text": [
      "[nltk_data] Downloading package stopwords to\n",
      "[nltk_data]     /home1/mh987269/nltk_data...\n",
      "[nltk_data]   Package stopwords is already up-to-date!\n"
     ]
    }
   ],
   "source": [
    "nltk . download ('stopwords')\n",
    "                 \n",
    "from nltk . corpus import stopwords\n",
    "from nltk . tokenize import word_tokenize\n",
    "\n",
    "porter = PorterStemmer ()\n",
    "\n",
    "def stemSentence ( sentence ) :\n",
    "    tokenizer = nltk.RegexpTokenizer ( \"[a -zA - Z ]+\")\n",
    "    token_words = tokenizer . tokenize ( sentence )\n",
    "    #print( token_words )\n",
    "    stop_words = set( stopwords . words ('english') )\n",
    "    #print(stop_words)\n",
    "    stem_sentence =[]\n",
    "\n",
    "    for word in token_words :\n",
    "        if word not in stop_words :\n",
    "            stem_sentence . append ( porter.stem (word))\n",
    "            stem_sentence . append (\" \")\n",
    "    return \"\". join (stem_sentence)"
   ]
  },
  {
   "cell_type": "code",
   "execution_count": 62,
   "metadata": {},
   "outputs": [
    {
     "data": {
      "text/plain": [
       "'marvel mobile play the official ultimate spider-man game ( 4.50) on ur mobile right now. text spider to 83338 for the game & we ll send u a free 8ball wallpap '"
      ]
     },
     "execution_count": 62,
     "metadata": {},
     "output_type": "execute_result"
    }
   ],
   "source": [
    "x= stemSentence ( X[8])\n",
    "x"
   ]
  },
  {
   "cell_type": "code",
   "execution_count": null,
   "metadata": {},
   "outputs": [],
   "source": []
  }
 ],
 "metadata": {
  "kernelspec": {
   "display_name": "Python 3 (ipykernel)",
   "language": "python",
   "name": "python3"
  },
  "language_info": {
   "codemirror_mode": {
    "name": "ipython",
    "version": 3
   },
   "file_extension": ".py",
   "mimetype": "text/x-python",
   "name": "python",
   "nbconvert_exporter": "python",
   "pygments_lexer": "ipython3",
   "version": "3.9.13"
  }
 },
 "nbformat": 4,
 "nbformat_minor": 2
}
