{
 "cells": [
  {
   "cell_type": "code",
   "execution_count": null,
   "id": "d0e82a39",
   "metadata": {},
   "outputs": [],
   "source": [
    "%pip install surprise"
   ]
  },
  {
   "cell_type": "code",
   "execution_count": null,
   "id": "81d5a535",
   "metadata": {},
   "outputs": [],
   "source": [
    "%matplotlib inline\n",
    "import pandas as pd\n",
    "import numpy as np\n",
    "import matplotlib.pyplot as plt\n",
    "import seaborn as sns\n",
    "from scipy import stats\n",
    "from ast import literal_eval\n",
    "from sklearn.feature_extraction.text import TfidfVectorizer, CountVectorizer\n",
    "from sklearn.metrics.pairwise import linear_kernel, cosine_similarity\n",
    "from nltk.stem.snowball import SnowballStemmer\n",
    "from nltk.stem.wordnet import WordNetLemmatizer\n",
    "from nltk.corpus import wordnet\n",
    "from surprise import Reader, Dataset, SVD\n",
    "from surprise.model_selection import cross_validate\n"
   ]
  },
  {
   "cell_type": "markdown",
   "id": "d7309caa",
   "metadata": {},
   "source": [
    "# 1. Recommandation simple"
   ]
  },
  {
   "cell_type": "code",
   "execution_count": null,
   "id": "2a1d31cd",
   "metadata": {},
   "outputs": [],
   "source": [
    "metadata = pd.read_csv('data/movies_metadata.csv')\n",
    "metadata.head()"
   ]
  },
  {
   "cell_type": "code",
   "execution_count": null,
   "id": "e0715d3e",
   "metadata": {},
   "outputs": [],
   "source": [
    "metadata['genres'] = metadata['genres'].fillna('[]').apply(literal_eval).apply(lambda x: [i['name'] for i in x] if isinstance(x, list) else [])\n"
   ]
  },
  {
   "cell_type": "code",
   "execution_count": null,
   "id": "d342359e",
   "metadata": {},
   "outputs": [],
   "source": [
    "vote_counts = metadata[metadata['vote_count'].notnull()]['vote_count'].astype('int')\n",
    "vote_averages = metadata[metadata['vote_average'].notnull()]['vote_average'].astype('int')\n",
    "C = vote_averages.mean()\n",
    "C"
   ]
  },
  {
   "cell_type": "code",
   "execution_count": null,
   "id": "a0a9acd1",
   "metadata": {},
   "outputs": [],
   "source": [
    "m = vote_counts.quantile(0.95)\n",
    "m"
   ]
  },
  {
   "cell_type": "code",
   "execution_count": null,
   "id": "2265cf85",
   "metadata": {},
   "outputs": [],
   "source": [
    "metadata['year'] = pd.to_datetime(metadata['release_date'], errors='coerce').apply(lambda x: str(x).split('-')[0] if x != np.nan else np.nan)"
   ]
  },
  {
   "cell_type": "code",
   "execution_count": null,
   "id": "a1e18390",
   "metadata": {},
   "outputs": [],
   "source": [
    "qualified = metadata[(metadata['vote_count'] >= m) & (metadata['vote_count'].notnull()) & (metadata['vote_average'].notnull())][['title', 'year', 'vote_count', 'vote_average', 'popularity', 'genres']]\n",
    "qualified['vote_count'] = qualified['vote_count'].astype('int')\n",
    "qualified['vote_average'] = qualified['vote_average'].astype('int')\n",
    "qualified.shape"
   ]
  },
  {
   "cell_type": "code",
   "execution_count": null,
   "id": "c93a1412",
   "metadata": {},
   "outputs": [],
   "source": [
    "def weighted_rating(x):\n",
    "    v = x['vote_count']\n",
    "    R = x['vote_average']\n",
    "    return (v/(v+m) * R) + (m/(m+v) * C)"
   ]
  },
  {
   "cell_type": "code",
   "execution_count": null,
   "id": "f9ce932c",
   "metadata": {},
   "outputs": [],
   "source": [
    "qualified['wr'] = qualified.apply(weighted_rating, axis=1)"
   ]
  },
  {
   "cell_type": "code",
   "execution_count": null,
   "id": "3ae78e27",
   "metadata": {},
   "outputs": [],
   "source": [
    "qualified = qualified.sort_values('wr', ascending=False).head(250)"
   ]
  },
  {
   "cell_type": "code",
   "execution_count": null,
   "id": "61ad6944",
   "metadata": {},
   "outputs": [],
   "source": [
    "qualified.head(15)"
   ]
  },
  {
   "cell_type": "markdown",
   "id": "18b60a75",
   "metadata": {},
   "source": [
    "Exercice : écrire une fonction qui permet de construire le tableau pour un genre particulier. Afficher le top 15 des films de romance."
   ]
  },
  {
   "cell_type": "markdown",
   "id": "8e57cfb7",
   "metadata": {},
   "source": [
    "# Content-based filtering"
   ]
  },
  {
   "cell_type": "markdown",
   "id": "3ec6eed0",
   "metadata": {},
   "source": [
    "préparation des données :  on ne garde qu'une partie des données (identifiant, titre et overview)"
   ]
  },
  {
   "cell_type": "code",
   "execution_count": null,
   "id": "c266f010",
   "metadata": {},
   "outputs": [],
   "source": [
    "df = metadata[['id','title','overview']]\n",
    "df.head(1)"
   ]
  },
  {
   "cell_type": "markdown",
   "id": "93478d93",
   "metadata": {},
   "source": [
    "Création de la matrice TF-IDF"
   ]
  },
  {
   "cell_type": "code",
   "execution_count": null,
   "id": "57c2f133",
   "metadata": {},
   "outputs": [],
   "source": [
    "tfidf = TfidfVectorizer(stop_words='english')\n",
    "df['overview'] = df['overview'].fillna('')"
   ]
  },
  {
   "cell_type": "code",
   "execution_count": null,
   "id": "f62e1c86",
   "metadata": {},
   "outputs": [],
   "source": [
    "tfidf_matrix = tfidf.fit_transform(df['overview'])\n",
    "tfidf_matrix.shape"
   ]
  },
  {
   "cell_type": "markdown",
   "id": "7e045612",
   "metadata": {},
   "source": [
    "Similarité cosinus"
   ]
  },
  {
   "cell_type": "code",
   "execution_count": null,
   "id": "745b2be5",
   "metadata": {},
   "outputs": [],
   "source": [
    "cosine_sim=cosine_similarity(tfidf_matrix,tfidf_matrix)"
   ]
  },
  {
   "cell_type": "code",
   "execution_count": null,
   "id": "b5b7c886",
   "metadata": {},
   "outputs": [],
   "source": [
    "cosine_sim[1]"
   ]
  },
  {
   "cell_type": "markdown",
   "id": "cef3304f",
   "metadata": {},
   "source": [
    "Recommandation en utilisant les similarités"
   ]
  },
  {
   "cell_type": "code",
   "execution_count": null,
   "id": "6d4b0c08",
   "metadata": {},
   "outputs": [],
   "source": [
    "df=df[~df['title'].isna()]"
   ]
  },
  {
   "cell_type": "code",
   "execution_count": null,
   "id": "d7f7b0dd",
   "metadata": {},
   "outputs": [],
   "source": [
    "indices = pd.Series(df.index, index=df['title'])\n",
    "indices = indices[~indices.index.duplicated(keep='last')]\n",
    "indices"
   ]
  },
  {
   "cell_type": "code",
   "execution_count": null,
   "id": "1c063de5",
   "metadata": {},
   "outputs": [],
   "source": [
    "target_movie_index = indices['Toy Story']\n",
    "similarity_scores = pd.DataFrame(cosine_sim[target_movie_index], columns=[\"score\"])\n",
    "similarity_scores"
   ]
  },
  {
   "cell_type": "code",
   "execution_count": null,
   "id": "d18ba171",
   "metadata": {},
   "outputs": [],
   "source": [
    "movie_indices = similarity_scores.sort_values(\"score\", ascending=False)[0:11].index"
   ]
  },
  {
   "cell_type": "code",
   "execution_count": null,
   "id": "c423be9c",
   "metadata": {},
   "outputs": [],
   "source": [
    "df['title'].iloc[movie_indices]"
   ]
  },
  {
   "cell_type": "markdown",
   "id": "fd90c178",
   "metadata": {},
   "source": [
    "# Collaborative Filtering"
   ]
  },
  {
   "cell_type": "code",
   "execution_count": null,
   "id": "40266a29",
   "metadata": {},
   "outputs": [],
   "source": [
    "reader = Reader()"
   ]
  },
  {
   "cell_type": "code",
   "execution_count": null,
   "id": "c0b7357a",
   "metadata": {},
   "outputs": [],
   "source": [
    "ratings = pd.read_csv('data/ratings_small.csv')\n",
    "ratings.head()"
   ]
  },
  {
   "cell_type": "code",
   "execution_count": null,
   "id": "3a789bb9",
   "metadata": {},
   "outputs": [],
   "source": [
    "data = Dataset.load_from_df(ratings[['userId', 'movieId', 'rating']], reader)"
   ]
  },
  {
   "cell_type": "code",
   "execution_count": null,
   "id": "381a4583",
   "metadata": {},
   "outputs": [],
   "source": [
    "#svd\n",
    "svd = SVD()"
   ]
  },
  {
   "cell_type": "code",
   "execution_count": null,
   "id": "18bd876c",
   "metadata": {},
   "outputs": [],
   "source": [
    "# Run 5-fold cross-validation and then print results\n",
    "cross_validate(svd, data, measures=['RMSE', 'MAE'], cv=5, verbose=True)"
   ]
  },
  {
   "cell_type": "code",
   "execution_count": null,
   "id": "bf8ccb55",
   "metadata": {},
   "outputs": [],
   "source": [
    "trainset = data.build_full_trainset()\n",
    "svd.fit(trainset)"
   ]
  },
  {
   "cell_type": "code",
   "execution_count": null,
   "id": "3ffe5b43",
   "metadata": {},
   "outputs": [],
   "source": [
    "ratings[ratings['userId'] == 1]"
   ]
  },
  {
   "cell_type": "code",
   "execution_count": null,
   "id": "a5655cd2",
   "metadata": {},
   "outputs": [],
   "source": [
    "svd.predict(1, 302,3)\n"
   ]
  },
  {
   "cell_type": "code",
   "execution_count": null,
   "id": "0fed9925",
   "metadata": {},
   "outputs": [],
   "source": []
  },
  {
   "cell_type": "code",
   "execution_count": null,
   "id": "4a14f86f",
   "metadata": {},
   "outputs": [],
   "source": []
  }
 ],
 "metadata": {
  "kernelspec": {
   "display_name": "Python 3",
   "language": "python",
   "name": "python3"
  },
  "language_info": {
   "codemirror_mode": {
    "name": "ipython",
    "version": 3
   },
   "file_extension": ".py",
   "mimetype": "text/x-python",
   "name": "python",
   "nbconvert_exporter": "python",
   "pygments_lexer": "ipython3",
   "version": "3.8.8"
  }
 },
 "nbformat": 4,
 "nbformat_minor": 5
}
